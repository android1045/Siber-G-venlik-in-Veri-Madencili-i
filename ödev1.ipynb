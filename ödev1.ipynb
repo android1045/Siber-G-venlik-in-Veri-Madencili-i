{
  "nbformat": 4,
  "nbformat_minor": 0,
  "metadata": {
    "colab": {
      "provenance": [],
      "authorship_tag": "ABX9TyMdNWsJWZBn7lW7yaSpdjcT",
      "include_colab_link": true
    },
    "kernelspec": {
      "name": "python3",
      "display_name": "Python 3"
    },
    "language_info": {
      "name": "python"
    }
  },
  "cells": [
    {
      "cell_type": "markdown",
      "metadata": {
        "id": "view-in-github",
        "colab_type": "text"
      },
      "source": [
        "<a href=\"https://colab.research.google.com/github/android1045/Siber-Guvenlik-icin-Veri-Madenciligi/blob/main/%C3%B6dev1.ipynb\" target=\"_parent\"><img src=\"https://colab.research.google.com/assets/colab-badge.svg\" alt=\"Open In Colab\"/></a>"
      ]
    },
    {
      "cell_type": "code",
      "execution_count": null,
      "metadata": {
        "id": "SEzFW8o_aIVZ",
        "colab": {
          "base_uri": "https://localhost:8080/"
        },
        "outputId": "61465b27-89c9-45ad-e292-5af4b7b24ec8"
      },
      "outputs": [
        {
          "output_type": "stream",
          "name": "stdout",
          "text": [
            "Downloading data from http://kdd.ics.uci.edu/databases/kddcup99/kddcup.data_10_percent.gz\n",
            "2144903/2144903 [==============================] - 0s 0us/step\n",
            "/root/.keras/datasets/kddcup.data_10_percent.gz\n"
          ]
        }
      ],
      "source": [
        "# Gerekli kütüphanelerin import edilmesi\n",
        "import numpy as np\n",
        "import pandas as pd\n",
        "from tensorflow.keras.utils import get_file\n",
        "\n",
        "# Veri setinin sitesinden indirilmesi\n",
        "try:\n",
        "    path = get_file('kddcup.data_10_percent.gz', origin='http://kdd.ics.uci.edu/databases/kddcup99/kddcup.data_10_percent.gz')\n",
        "except:\n",
        "    print('İndirme hatası')\n",
        "    raise\n",
        "\n",
        "print(path)\n"
      ]
    },
    {
      "cell_type": "code",
      "source": [
        "# Veriyi bir Pandas DataFrame'e yükleme\n",
        "df = pd.read_csv(path, dtype=str, encoding = \"utf-8\" ,header=None)\n",
        "df.columns"
      ],
      "metadata": {
        "colab": {
          "base_uri": "https://localhost:8080/"
        },
        "id": "BY27CH8dbRcq",
        "outputId": "35d487e4-f3ec-4fb4-fb38-d9eacf694107"
      },
      "execution_count": null,
      "outputs": [
        {
          "output_type": "execute_result",
          "data": {
            "text/plain": [
              "Int64Index([ 0,  1,  2,  3,  4,  5,  6,  7,  8,  9, 10, 11, 12, 13, 14, 15, 16,\n",
              "            17, 18, 19, 20, 21, 22, 23, 24, 25, 26, 27, 28, 29, 30, 31, 32, 33,\n",
              "            34, 35, 36, 37, 38, 39, 40, 41],\n",
              "           dtype='int64')"
            ]
          },
          "metadata": {},
          "execution_count": 6
        }
      ]
    },
    {
      "cell_type": "code",
      "source": [
        "# DataFrame'e sütun başlıklarını ekleme\n",
        "df.columns = [\n",
        "    'duration',\n",
        "    'protocol_type',\n",
        "    'service',\n",
        "    'flag',\n",
        "    'src_bytes',\n",
        "    'dst_bytes',\n",
        "    'land',\n",
        "    'wrong_fragment',\n",
        "    'urgent',\n",
        "    'hot',\n",
        "    'num_failed_logins',\n",
        "    'logged_in',\n",
        "    'num_compromised',\n",
        "    'root_shell',\n",
        "    'su_attempted',\n",
        "    'num_root',\n",
        "    'num_file_creations',\n",
        "    'num_shells',\n",
        "    'num_access_files',\n",
        "    'num_outbound_cmds',\n",
        "    'is_host_login',\n",
        "    'is_guest_login',\n",
        "    'count',\n",
        "    'srv_count',\n",
        "    'serror_rate',\n",
        "    'srv_serror_rate',\n",
        "    'rerror_rate',\n",
        "    'srv_rerror_rate',\n",
        "    'same_srv_rate',\n",
        "    'diff_srv_rate',\n",
        "    'srv_diff_host_rate',\n",
        "    'dst_host_count',\n",
        "    'dst_host_srv_count',\n",
        "    'dst_host_same_srv_rate',\n",
        "    'dst_host_diff_srv_rate',\n",
        "    'dst_host_same_src_port_rate',\n",
        "    'dst_host_srv_diff_host_rate',\n",
        "    'dst_host_serror_rate',\n",
        "    'dst_host_srv_serror_rate',\n",
        "    'dst_host_rerror_rate',\n",
        "    'dst_host_srv_rerror_rate',\n",
        "    'outcome'\n",
        "]"
      ],
      "metadata": {
        "id": "gRrn5fJAdIJB"
      },
      "execution_count": null,
      "outputs": []
    },
    {
      "cell_type": "code",
      "source": [
        "# DataFrame eklenen sütunlarını gösterme\n",
        "df.columns"
      ],
      "metadata": {
        "colab": {
          "base_uri": "https://localhost:8080/"
        },
        "id": "yWbgrrxLfxSm",
        "outputId": "84136161-9def-4f17-a346-34ee31976ed5"
      },
      "execution_count": null,
      "outputs": [
        {
          "output_type": "execute_result",
          "data": {
            "text/plain": [
              "Index(['duration', 'protocol_type', 'service', 'flag', 'src_bytes',\n",
              "       'dst_bytes', 'land', 'wrong_fragment', 'urgent', 'hot',\n",
              "       'num_failed_logins', 'logged_in', 'num_compromised', 'root_shell',\n",
              "       'su_attempted', 'num_root', 'num_file_creations', 'num_shells',\n",
              "       'num_access_files', 'num_outbound_cmds', 'is_host_login',\n",
              "       'is_guest_login', 'count', 'srv_count', 'serror_rate',\n",
              "       'srv_serror_rate', 'rerror_rate', 'srv_rerror_rate', 'same_srv_rate',\n",
              "       'diff_srv_rate', 'srv_diff_host_rate', 'dst_host_count',\n",
              "       'dst_host_srv_count', 'dst_host_same_srv_rate',\n",
              "       'dst_host_diff_srv_rate', 'dst_host_same_src_port_rate',\n",
              "       'dst_host_srv_diff_host_rate', 'dst_host_serror_rate',\n",
              "       'dst_host_srv_serror_rate', 'dst_host_rerror_rate',\n",
              "       'dst_host_srv_rerror_rate', 'outcome'],\n",
              "      dtype='object')"
            ]
          },
          "metadata": {},
          "execution_count": 8
        }
      ]
    },
    {
      "cell_type": "code",
      "source": [
        "# İlk 5 satırı gösterme\n",
        "df[0:5]"
      ],
      "metadata": {
        "colab": {
          "base_uri": "https://localhost:8080/",
          "height": 255
        },
        "id": "f_boQ1wQh2dg",
        "outputId": "042c3bb7-57d6-4243-bf57-d8d5985164c0"
      },
      "execution_count": null,
      "outputs": [
        {
          "output_type": "execute_result",
          "data": {
            "text/plain": [
              "  duration protocol_type service flag src_bytes dst_bytes land wrong_fragment  \\\n",
              "0        0           tcp    http   SF       181      5450    0              0   \n",
              "1        0           tcp    http   SF       239       486    0              0   \n",
              "2        0           tcp    http   SF       235      1337    0              0   \n",
              "3        0           tcp    http   SF       219      1337    0              0   \n",
              "4        0           tcp    http   SF       217      2032    0              0   \n",
              "\n",
              "  urgent hot  ... dst_host_srv_count dst_host_same_srv_rate  \\\n",
              "0      0   0  ...                  9                   1.00   \n",
              "1      0   0  ...                 19                   1.00   \n",
              "2      0   0  ...                 29                   1.00   \n",
              "3      0   0  ...                 39                   1.00   \n",
              "4      0   0  ...                 49                   1.00   \n",
              "\n",
              "  dst_host_diff_srv_rate dst_host_same_src_port_rate  \\\n",
              "0                   0.00                        0.11   \n",
              "1                   0.00                        0.05   \n",
              "2                   0.00                        0.03   \n",
              "3                   0.00                        0.03   \n",
              "4                   0.00                        0.02   \n",
              "\n",
              "  dst_host_srv_diff_host_rate dst_host_serror_rate dst_host_srv_serror_rate  \\\n",
              "0                        0.00                 0.00                     0.00   \n",
              "1                        0.00                 0.00                     0.00   \n",
              "2                        0.00                 0.00                     0.00   \n",
              "3                        0.00                 0.00                     0.00   \n",
              "4                        0.00                 0.00                     0.00   \n",
              "\n",
              "  dst_host_rerror_rate dst_host_srv_rerror_rate  outcome  \n",
              "0                 0.00                     0.00  normal.  \n",
              "1                 0.00                     0.00  normal.  \n",
              "2                 0.00                     0.00  normal.  \n",
              "3                 0.00                     0.00  normal.  \n",
              "4                 0.00                     0.00  normal.  \n",
              "\n",
              "[5 rows x 42 columns]"
            ],
            "text/html": [
              "\n",
              "  <div id=\"df-c895eab4-d4c6-4332-beab-9a6825e4ec7c\" class=\"colab-df-container\">\n",
              "    <div>\n",
              "<style scoped>\n",
              "    .dataframe tbody tr th:only-of-type {\n",
              "        vertical-align: middle;\n",
              "    }\n",
              "\n",
              "    .dataframe tbody tr th {\n",
              "        vertical-align: top;\n",
              "    }\n",
              "\n",
              "    .dataframe thead th {\n",
              "        text-align: right;\n",
              "    }\n",
              "</style>\n",
              "<table border=\"1\" class=\"dataframe\">\n",
              "  <thead>\n",
              "    <tr style=\"text-align: right;\">\n",
              "      <th></th>\n",
              "      <th>duration</th>\n",
              "      <th>protocol_type</th>\n",
              "      <th>service</th>\n",
              "      <th>flag</th>\n",
              "      <th>src_bytes</th>\n",
              "      <th>dst_bytes</th>\n",
              "      <th>land</th>\n",
              "      <th>wrong_fragment</th>\n",
              "      <th>urgent</th>\n",
              "      <th>hot</th>\n",
              "      <th>...</th>\n",
              "      <th>dst_host_srv_count</th>\n",
              "      <th>dst_host_same_srv_rate</th>\n",
              "      <th>dst_host_diff_srv_rate</th>\n",
              "      <th>dst_host_same_src_port_rate</th>\n",
              "      <th>dst_host_srv_diff_host_rate</th>\n",
              "      <th>dst_host_serror_rate</th>\n",
              "      <th>dst_host_srv_serror_rate</th>\n",
              "      <th>dst_host_rerror_rate</th>\n",
              "      <th>dst_host_srv_rerror_rate</th>\n",
              "      <th>outcome</th>\n",
              "    </tr>\n",
              "  </thead>\n",
              "  <tbody>\n",
              "    <tr>\n",
              "      <th>0</th>\n",
              "      <td>0</td>\n",
              "      <td>tcp</td>\n",
              "      <td>http</td>\n",
              "      <td>SF</td>\n",
              "      <td>181</td>\n",
              "      <td>5450</td>\n",
              "      <td>0</td>\n",
              "      <td>0</td>\n",
              "      <td>0</td>\n",
              "      <td>0</td>\n",
              "      <td>...</td>\n",
              "      <td>9</td>\n",
              "      <td>1.00</td>\n",
              "      <td>0.00</td>\n",
              "      <td>0.11</td>\n",
              "      <td>0.00</td>\n",
              "      <td>0.00</td>\n",
              "      <td>0.00</td>\n",
              "      <td>0.00</td>\n",
              "      <td>0.00</td>\n",
              "      <td>normal.</td>\n",
              "    </tr>\n",
              "    <tr>\n",
              "      <th>1</th>\n",
              "      <td>0</td>\n",
              "      <td>tcp</td>\n",
              "      <td>http</td>\n",
              "      <td>SF</td>\n",
              "      <td>239</td>\n",
              "      <td>486</td>\n",
              "      <td>0</td>\n",
              "      <td>0</td>\n",
              "      <td>0</td>\n",
              "      <td>0</td>\n",
              "      <td>...</td>\n",
              "      <td>19</td>\n",
              "      <td>1.00</td>\n",
              "      <td>0.00</td>\n",
              "      <td>0.05</td>\n",
              "      <td>0.00</td>\n",
              "      <td>0.00</td>\n",
              "      <td>0.00</td>\n",
              "      <td>0.00</td>\n",
              "      <td>0.00</td>\n",
              "      <td>normal.</td>\n",
              "    </tr>\n",
              "    <tr>\n",
              "      <th>2</th>\n",
              "      <td>0</td>\n",
              "      <td>tcp</td>\n",
              "      <td>http</td>\n",
              "      <td>SF</td>\n",
              "      <td>235</td>\n",
              "      <td>1337</td>\n",
              "      <td>0</td>\n",
              "      <td>0</td>\n",
              "      <td>0</td>\n",
              "      <td>0</td>\n",
              "      <td>...</td>\n",
              "      <td>29</td>\n",
              "      <td>1.00</td>\n",
              "      <td>0.00</td>\n",
              "      <td>0.03</td>\n",
              "      <td>0.00</td>\n",
              "      <td>0.00</td>\n",
              "      <td>0.00</td>\n",
              "      <td>0.00</td>\n",
              "      <td>0.00</td>\n",
              "      <td>normal.</td>\n",
              "    </tr>\n",
              "    <tr>\n",
              "      <th>3</th>\n",
              "      <td>0</td>\n",
              "      <td>tcp</td>\n",
              "      <td>http</td>\n",
              "      <td>SF</td>\n",
              "      <td>219</td>\n",
              "      <td>1337</td>\n",
              "      <td>0</td>\n",
              "      <td>0</td>\n",
              "      <td>0</td>\n",
              "      <td>0</td>\n",
              "      <td>...</td>\n",
              "      <td>39</td>\n",
              "      <td>1.00</td>\n",
              "      <td>0.00</td>\n",
              "      <td>0.03</td>\n",
              "      <td>0.00</td>\n",
              "      <td>0.00</td>\n",
              "      <td>0.00</td>\n",
              "      <td>0.00</td>\n",
              "      <td>0.00</td>\n",
              "      <td>normal.</td>\n",
              "    </tr>\n",
              "    <tr>\n",
              "      <th>4</th>\n",
              "      <td>0</td>\n",
              "      <td>tcp</td>\n",
              "      <td>http</td>\n",
              "      <td>SF</td>\n",
              "      <td>217</td>\n",
              "      <td>2032</td>\n",
              "      <td>0</td>\n",
              "      <td>0</td>\n",
              "      <td>0</td>\n",
              "      <td>0</td>\n",
              "      <td>...</td>\n",
              "      <td>49</td>\n",
              "      <td>1.00</td>\n",
              "      <td>0.00</td>\n",
              "      <td>0.02</td>\n",
              "      <td>0.00</td>\n",
              "      <td>0.00</td>\n",
              "      <td>0.00</td>\n",
              "      <td>0.00</td>\n",
              "      <td>0.00</td>\n",
              "      <td>normal.</td>\n",
              "    </tr>\n",
              "  </tbody>\n",
              "</table>\n",
              "<p>5 rows × 42 columns</p>\n",
              "</div>\n",
              "    <div class=\"colab-df-buttons\">\n",
              "\n",
              "  <div class=\"colab-df-container\">\n",
              "    <button class=\"colab-df-convert\" onclick=\"convertToInteractive('df-c895eab4-d4c6-4332-beab-9a6825e4ec7c')\"\n",
              "            title=\"Convert this dataframe to an interactive table.\"\n",
              "            style=\"display:none;\">\n",
              "\n",
              "  <svg xmlns=\"http://www.w3.org/2000/svg\" height=\"24px\" viewBox=\"0 -960 960 960\">\n",
              "    <path d=\"M120-120v-720h720v720H120Zm60-500h600v-160H180v160Zm220 220h160v-160H400v160Zm0 220h160v-160H400v160ZM180-400h160v-160H180v160Zm440 0h160v-160H620v160ZM180-180h160v-160H180v160Zm440 0h160v-160H620v160Z\"/>\n",
              "  </svg>\n",
              "    </button>\n",
              "\n",
              "  <style>\n",
              "    .colab-df-container {\n",
              "      display:flex;\n",
              "      gap: 12px;\n",
              "    }\n",
              "\n",
              "    .colab-df-convert {\n",
              "      background-color: #E8F0FE;\n",
              "      border: none;\n",
              "      border-radius: 50%;\n",
              "      cursor: pointer;\n",
              "      display: none;\n",
              "      fill: #1967D2;\n",
              "      height: 32px;\n",
              "      padding: 0 0 0 0;\n",
              "      width: 32px;\n",
              "    }\n",
              "\n",
              "    .colab-df-convert:hover {\n",
              "      background-color: #E2EBFA;\n",
              "      box-shadow: 0px 1px 2px rgba(60, 64, 67, 0.3), 0px 1px 3px 1px rgba(60, 64, 67, 0.15);\n",
              "      fill: #174EA6;\n",
              "    }\n",
              "\n",
              "    .colab-df-buttons div {\n",
              "      margin-bottom: 4px;\n",
              "    }\n",
              "\n",
              "    [theme=dark] .colab-df-convert {\n",
              "      background-color: #3B4455;\n",
              "      fill: #D2E3FC;\n",
              "    }\n",
              "\n",
              "    [theme=dark] .colab-df-convert:hover {\n",
              "      background-color: #434B5C;\n",
              "      box-shadow: 0px 1px 3px 1px rgba(0, 0, 0, 0.15);\n",
              "      filter: drop-shadow(0px 1px 2px rgba(0, 0, 0, 0.3));\n",
              "      fill: #FFFFFF;\n",
              "    }\n",
              "  </style>\n",
              "\n",
              "    <script>\n",
              "      const buttonEl =\n",
              "        document.querySelector('#df-c895eab4-d4c6-4332-beab-9a6825e4ec7c button.colab-df-convert');\n",
              "      buttonEl.style.display =\n",
              "        google.colab.kernel.accessAllowed ? 'block' : 'none';\n",
              "\n",
              "      async function convertToInteractive(key) {\n",
              "        const element = document.querySelector('#df-c895eab4-d4c6-4332-beab-9a6825e4ec7c');\n",
              "        const dataTable =\n",
              "          await google.colab.kernel.invokeFunction('convertToInteractive',\n",
              "                                                    [key], {});\n",
              "        if (!dataTable) return;\n",
              "\n",
              "        const docLinkHtml = 'Like what you see? Visit the ' +\n",
              "          '<a target=\"_blank\" href=https://colab.research.google.com/notebooks/data_table.ipynb>data table notebook</a>'\n",
              "          + ' to learn more about interactive tables.';\n",
              "        element.innerHTML = '';\n",
              "        dataTable['output_type'] = 'display_data';\n",
              "        await google.colab.output.renderOutput(dataTable, element);\n",
              "        const docLink = document.createElement('div');\n",
              "        docLink.innerHTML = docLinkHtml;\n",
              "        element.appendChild(docLink);\n",
              "      }\n",
              "    </script>\n",
              "  </div>\n",
              "\n",
              "\n",
              "<div id=\"df-52994f8a-7eed-4d55-ae15-cc01e1405f12\">\n",
              "  <button class=\"colab-df-quickchart\" onclick=\"quickchart('df-52994f8a-7eed-4d55-ae15-cc01e1405f12')\"\n",
              "            title=\"Suggest charts\"\n",
              "            style=\"display:none;\">\n",
              "\n",
              "<svg xmlns=\"http://www.w3.org/2000/svg\" height=\"24px\"viewBox=\"0 0 24 24\"\n",
              "     width=\"24px\">\n",
              "    <g>\n",
              "        <path d=\"M19 3H5c-1.1 0-2 .9-2 2v14c0 1.1.9 2 2 2h14c1.1 0 2-.9 2-2V5c0-1.1-.9-2-2-2zM9 17H7v-7h2v7zm4 0h-2V7h2v10zm4 0h-2v-4h2v4z\"/>\n",
              "    </g>\n",
              "</svg>\n",
              "  </button>\n",
              "\n",
              "<style>\n",
              "  .colab-df-quickchart {\n",
              "      --bg-color: #E8F0FE;\n",
              "      --fill-color: #1967D2;\n",
              "      --hover-bg-color: #E2EBFA;\n",
              "      --hover-fill-color: #174EA6;\n",
              "      --disabled-fill-color: #AAA;\n",
              "      --disabled-bg-color: #DDD;\n",
              "  }\n",
              "\n",
              "  [theme=dark] .colab-df-quickchart {\n",
              "      --bg-color: #3B4455;\n",
              "      --fill-color: #D2E3FC;\n",
              "      --hover-bg-color: #434B5C;\n",
              "      --hover-fill-color: #FFFFFF;\n",
              "      --disabled-bg-color: #3B4455;\n",
              "      --disabled-fill-color: #666;\n",
              "  }\n",
              "\n",
              "  .colab-df-quickchart {\n",
              "    background-color: var(--bg-color);\n",
              "    border: none;\n",
              "    border-radius: 50%;\n",
              "    cursor: pointer;\n",
              "    display: none;\n",
              "    fill: var(--fill-color);\n",
              "    height: 32px;\n",
              "    padding: 0;\n",
              "    width: 32px;\n",
              "  }\n",
              "\n",
              "  .colab-df-quickchart:hover {\n",
              "    background-color: var(--hover-bg-color);\n",
              "    box-shadow: 0 1px 2px rgba(60, 64, 67, 0.3), 0 1px 3px 1px rgba(60, 64, 67, 0.15);\n",
              "    fill: var(--button-hover-fill-color);\n",
              "  }\n",
              "\n",
              "  .colab-df-quickchart-complete:disabled,\n",
              "  .colab-df-quickchart-complete:disabled:hover {\n",
              "    background-color: var(--disabled-bg-color);\n",
              "    fill: var(--disabled-fill-color);\n",
              "    box-shadow: none;\n",
              "  }\n",
              "\n",
              "  .colab-df-spinner {\n",
              "    border: 2px solid var(--fill-color);\n",
              "    border-color: transparent;\n",
              "    border-bottom-color: var(--fill-color);\n",
              "    animation:\n",
              "      spin 1s steps(1) infinite;\n",
              "  }\n",
              "\n",
              "  @keyframes spin {\n",
              "    0% {\n",
              "      border-color: transparent;\n",
              "      border-bottom-color: var(--fill-color);\n",
              "      border-left-color: var(--fill-color);\n",
              "    }\n",
              "    20% {\n",
              "      border-color: transparent;\n",
              "      border-left-color: var(--fill-color);\n",
              "      border-top-color: var(--fill-color);\n",
              "    }\n",
              "    30% {\n",
              "      border-color: transparent;\n",
              "      border-left-color: var(--fill-color);\n",
              "      border-top-color: var(--fill-color);\n",
              "      border-right-color: var(--fill-color);\n",
              "    }\n",
              "    40% {\n",
              "      border-color: transparent;\n",
              "      border-right-color: var(--fill-color);\n",
              "      border-top-color: var(--fill-color);\n",
              "    }\n",
              "    60% {\n",
              "      border-color: transparent;\n",
              "      border-right-color: var(--fill-color);\n",
              "    }\n",
              "    80% {\n",
              "      border-color: transparent;\n",
              "      border-right-color: var(--fill-color);\n",
              "      border-bottom-color: var(--fill-color);\n",
              "    }\n",
              "    90% {\n",
              "      border-color: transparent;\n",
              "      border-bottom-color: var(--fill-color);\n",
              "    }\n",
              "  }\n",
              "</style>\n",
              "\n",
              "  <script>\n",
              "    async function quickchart(key) {\n",
              "      const quickchartButtonEl =\n",
              "        document.querySelector('#' + key + ' button');\n",
              "      quickchartButtonEl.disabled = true;  // To prevent multiple clicks.\n",
              "      quickchartButtonEl.classList.add('colab-df-spinner');\n",
              "      try {\n",
              "        const charts = await google.colab.kernel.invokeFunction(\n",
              "            'suggestCharts', [key], {});\n",
              "      } catch (error) {\n",
              "        console.error('Error during call to suggestCharts:', error);\n",
              "      }\n",
              "      quickchartButtonEl.classList.remove('colab-df-spinner');\n",
              "      quickchartButtonEl.classList.add('colab-df-quickchart-complete');\n",
              "    }\n",
              "    (() => {\n",
              "      let quickchartButtonEl =\n",
              "        document.querySelector('#df-52994f8a-7eed-4d55-ae15-cc01e1405f12 button');\n",
              "      quickchartButtonEl.style.display =\n",
              "        google.colab.kernel.accessAllowed ? 'block' : 'none';\n",
              "    })();\n",
              "  </script>\n",
              "</div>\n",
              "\n",
              "    </div>\n",
              "  </div>\n"
            ]
          },
          "metadata": {},
          "execution_count": 9
        }
      ]
    },
    {
      "cell_type": "code",
      "source": [
        "# Veri setindeki toplam satır sayısını gösterme\n",
        "print(\"Toplam {} satır okundu.\".format(len(df)))\n",
        "print('=' * 40)\n",
        "print('Veri noktalarının sayısı:', df.shape[0])\n",
        "print('=' * 40)\n",
        "print('feature sayısı:', df.shape[1])\n",
        "print('=' * 40)"
      ],
      "metadata": {
        "colab": {
          "base_uri": "https://localhost:8080/"
        },
        "id": "iuCnFvIVlhzS",
        "outputId": "2567d0f0-f25c-4bc6-da61-87e69192d961"
      },
      "execution_count": null,
      "outputs": [
        {
          "output_type": "stream",
          "name": "stdout",
          "text": [
            "Toplam 494021 satır okundu.\n",
            "========================================\n",
            "Veri noktalarının sayısı: 494021\n",
            "========================================\n",
            "feature sayısı: 42\n",
            "========================================\n"
          ]
        }
      ]
    },
    {
      "cell_type": "code",
      "source": [
        "# Çıktı etiketlerini kontrol etme\n",
        "output = df['outcome'].values\n",
        "labels = set(output)\n",
        "print('Farklı çıktı etiketleri:', labels)\n",
        "print('=' * 125)\n",
        "print('Farklı çıktı etiketlerinin sayısı:', len(labels))"
      ],
      "metadata": {
        "colab": {
          "base_uri": "https://localhost:8080/"
        },
        "id": "IVJizFMwlyd-",
        "outputId": "3508908d-f4b4-4ece-c8ef-e625a9508cb9"
      },
      "execution_count": null,
      "outputs": [
        {
          "output_type": "stream",
          "name": "stdout",
          "text": [
            "Farklı çıktı etiketleri: {'buffer_overflow.', 'back.', 'smurf.', 'loadmodule.', 'warezclient.', 'land.', 'satan.', 'ftp_write.', 'neptune.', 'pod.', 'imap.', 'teardrop.', 'rootkit.', 'portsweep.', 'guess_passwd.', 'nmap.', 'normal.', 'multihop.', 'ipsweep.', 'phf.', 'warezmaster.', 'spy.', 'perl.'}\n",
            "=============================================================================================================================\n",
            "Farklı çıktı etiketlerinin sayısı: 23\n"
          ]
        }
      ]
    },
    {
      "cell_type": "code",
      "source": [
        "# Veri Temizleme\n",
        "# NULL değerleri kontrol etme\n",
        "print('Veri setindeki NULL değer sayısı', len(df[df.isnull().any(1)]))\n",
        "print('=' * 40)"
      ],
      "metadata": {
        "colab": {
          "base_uri": "https://localhost:8080/"
        },
        "id": "rxu2kaqnmFx3",
        "outputId": "9e9a53f0-da96-467c-e5b4-6c34ddb2e580"
      },
      "execution_count": null,
      "outputs": [
        {
          "output_type": "stream",
          "name": "stdout",
          "text": [
            "Veri setindeki NULL değer sayısı 0\n",
            "========================================\n"
          ]
        },
        {
          "output_type": "stream",
          "name": "stderr",
          "text": [
            "<ipython-input-12-7b8883ef9b3f>:3: FutureWarning: In a future version of pandas all arguments of DataFrame.any and Series.any will be keyword-only.\n",
            "  print('Veri setindeki NULL değer sayısı', len(df[df.isnull().any(1)]))\n"
          ]
        }
      ]
    },
    {
      "cell_type": "code",
      "source": [
        "# Tekrar eden değerleri kontrol etme ve bunları kaldırma\n",
        "df.drop_duplicates(keep='first', inplace=True)\n",
        "\n",
        "# Şu anlık, yalnızca NA değerlerini (eksik değerlere sahip satırları) kaldırma\n",
        "df.dropna(inplace=True, axis=1)\n",
        "\n",
        "print(\"Toplam {} satır okundu.\".format(len(df)))"
      ],
      "metadata": {
        "colab": {
          "base_uri": "https://localhost:8080/"
        },
        "id": "KUd2gqNGmoCn",
        "outputId": "1caf4279-2b00-4681-b55d-05e8907b78bf"
      },
      "execution_count": null,
      "outputs": [
        {
          "output_type": "stream",
          "name": "stdout",
          "text": [
            "Toplam 145586 satır okundu.\n"
          ]
        }
      ]
    },
    {
      "cell_type": "code",
      "source": [
        "# EDA işlemi\n",
        "\n",
        "import matplotlib.pyplot as plt\n",
        "from matplotlib.pyplot import *\n",
        "\n",
        "# Sınıf dağılımını gösterme\n",
        "plt.figure(figsize=(15, 7))\n",
        "class_distribution = df['outcome'].value_counts()\n",
        "class_distribution.plot(kind='bar')\n",
        "plt.xlabel('Sınıf')\n",
        "plt.ylabel('Sınıfa Ait Veri Sayısı')\n",
        "plt.title('Eğitim Verilerinde Sınıf Dağılımı')\n",
        "plt.grid()\n",
        "plt.show()"
      ],
      "metadata": {
        "colab": {
          "base_uri": "https://localhost:8080/",
          "height": 739
        },
        "id": "zfYg2zELnDOZ",
        "outputId": "ab7e889e-f588-47a6-b89e-af4df2bf6f66"
      },
      "execution_count": null,
      "outputs": [
        {
          "output_type": "display_data",
          "data": {
            "text/plain": [
              "<Figure size 1500x700 with 1 Axes>"
            ],
            "image/png": "[encoded data removed]"
          },
          "metadata": {}
        }
      ]
    },
    {
      "cell_type": "code",
      "source": [
        "# Özellik seçimi\n",
        "feature = df.drop(['protocol_type', 'service', 'flag', 'land', 'logged_in', 'is_host_login', 'is_guest_login', 'outcome'], axis=1)\n",
        "target = df['outcome']\n",
        "\n",
        "# Etiket düzenleme\n",
        "target = target.apply(lambda x: 'abnormal' if x != 'normal.' else x)\n"
      ],
      "metadata": {
        "id": "raiz0ZzIcyJC"
      },
      "execution_count": null,
      "outputs": []
    },
    {
      "cell_type": "code",
      "source": [
        "# Z-skor normalizasyonu\n",
        "from sklearn.preprocessing import StandardScaler\n",
        "\n",
        "scaler = StandardScaler()\n",
        "feature_std = scaler.fit_transform(feature)"
      ],
      "metadata": {
        "id": "E5PkdfGjdKwS"
      },
      "execution_count": null,
      "outputs": []
    },
    {
      "cell_type": "code",
      "source": [
        "# Normalleştirilmiş özellikleri gösterme\n",
        "print(\"Normalleştirilmiş Özellikler:\")\n",
        "print(pd.DataFrame(feature_std, columns=feature.columns).head())"
      ],
      "metadata": {
        "colab": {
          "base_uri": "https://localhost:8080/"
        },
        "id": "iGv5QvDVdN3Z",
        "outputId": "79496b33-6d60-4baf-f8c8-49950d845c89"
      },
      "execution_count": null,
      "outputs": [
        {
          "output_type": "stream",
          "name": "stdout",
          "text": [
            "Normalleştirilmiş Özellikler:\n",
            "   duration  src_bytes  dst_bytes  wrong_fragment    urgent      hot  \\\n",
            "0  -0.10785  -0.004293   0.042596       -0.084394 -0.004737 -0.07021   \n",
            "1  -0.10785  -0.004261  -0.039036       -0.084394 -0.004737 -0.07021   \n",
            "2  -0.10785  -0.004263  -0.025042       -0.084394 -0.004737 -0.07021   \n",
            "3  -0.10785  -0.004272  -0.025042       -0.084394 -0.004737 -0.07021   \n",
            "4  -0.10785  -0.004273  -0.013613       -0.084394 -0.004737 -0.07021   \n",
            "\n",
            "   num_failed_logins  num_compromised  root_shell  su_attempted  ...  \\\n",
            "0          -0.018022        -0.007905    -0.01944     -0.008613  ...   \n",
            "1          -0.018022        -0.007905    -0.01944     -0.008613  ...   \n",
            "2          -0.018022        -0.007905    -0.01944     -0.008613  ...   \n",
            "3          -0.018022        -0.007905    -0.01944     -0.008613  ...   \n",
            "4          -0.018022        -0.007905    -0.01944     -0.008613  ...   \n",
            "\n",
            "   dst_host_count  dst_host_srv_count  dst_host_same_srv_rate  \\\n",
            "0       -1.740383           -1.054224                0.979272   \n",
            "1       -1.639472           -0.967051                0.979272   \n",
            "2       -1.538562           -0.879878                0.979272   \n",
            "3       -1.437651           -0.792705                0.979272   \n",
            "4       -1.336741           -0.705532                0.979272   \n",
            "\n",
            "   dst_host_diff_srv_rate  dst_host_same_src_port_rate  \\\n",
            "0               -0.417555                     0.071230   \n",
            "1               -0.417555                    -0.177606   \n",
            "2               -0.417555                    -0.260552   \n",
            "3               -0.417555                    -0.260552   \n",
            "4               -0.417555                    -0.302025   \n",
            "\n",
            "   dst_host_srv_diff_host_rate  dst_host_serror_rate  \\\n",
            "0                     -0.31531             -0.644428   \n",
            "1                     -0.31531             -0.644428   \n",
            "2                     -0.31531             -0.644428   \n",
            "3                     -0.31531             -0.644428   \n",
            "4                     -0.31531             -0.644428   \n",
            "\n",
            "   dst_host_srv_serror_rate  dst_host_rerror_rate  dst_host_srv_rerror_rate  \n",
            "0                 -0.641705             -0.360877                 -0.353941  \n",
            "1                 -0.641705             -0.360877                 -0.353941  \n",
            "2                 -0.641705             -0.360877                 -0.353941  \n",
            "3                 -0.641705             -0.360877                 -0.353941  \n",
            "4                 -0.641705             -0.360877                 -0.353941  \n",
            "\n",
            "[5 rows x 34 columns]\n"
          ]
        }
      ]
    }
  ]
}